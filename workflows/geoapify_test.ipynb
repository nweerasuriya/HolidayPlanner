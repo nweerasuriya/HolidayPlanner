{
 "cells": [
  {
   "cell_type": "markdown",
   "metadata": {},
   "source": [
    "## Testing Geoapify Places API"
   ]
  },
  {
   "cell_type": "code",
   "execution_count": null,
   "metadata": {},
   "outputs": [],
   "source": [
    "import sys\n",
    "import pandas as pd\n",
    "import numpy as np\n",
    "# change working directory to the root of the project\n",
    "sys.path.append('../')\n",
    "from src.geoapify_api import geoapify_pipeline\n",
    "from src.methods.data_ingestion import get_openweather, format_forecast_openweather\n",
    "from src.helpers.utils import relative_distance, convert_easting_northing_to_long_lat\n",
    "import importlib"
   ]
  },
  {
   "cell_type": "markdown",
   "metadata": {},
   "source": [
    "#### Postcode input to be converted to longitude and latitude.\n",
    "\n",
    "Postcode data was downloaded from: https://osdatahub.os.uk/downloads/open/CodePointOpen"
   ]
  },
  {
   "cell_type": "code",
   "execution_count": null,
   "metadata": {},
   "outputs": [],
   "source": [
    "postcode_path = '../data/postcode_data/Data/'\n",
    "# create function for getting postcode data\n",
    "def get_postcode_data(input_postcode: str, postcode_path) -> pd.DataFrame:\n",
    "    \"\"\"Get postcode data from postcode csv files\"\"\"\n",
    "    # Check if postcode starts with two or one letters\n",
    "    if input_postcode[:2].isalpha() == True:\n",
    "        # match first two letters of postcode to file\n",
    "        postcode_file = postcode_path + input_postcode[:2] + '.csv'\n",
    "    else:\n",
    "        # match first letter of postcode to file\n",
    "        postcode_file = postcode_path + input_postcode[0] + '.csv'\n",
    "    # read in file\n",
    "    postcode_df = pd.read_csv(postcode_file, names=['postcode', 'pqi', 'easting', 'northing'], header=None, usecols=[0, 1, 2, 3])\n",
    "    #filter to input postcode\n",
    "    postcode_df = postcode_df[postcode_df['postcode'] == input_postcode]\n",
    "    # convert easting and northing to longitude and latitude\n",
    "    postcode_df['latitude'], postcode_df['longitude'] = convert_easting_northing_to_long_lat(postcode_df['easting'].iloc[0], postcode_df['northing'].iloc[0])\n",
    "    return postcode_df\n",
    "\n",
    "# test function\n",
    "postcode = 'E14 3BX'\n",
    "post_df = get_postcode_data(postcode, postcode_path)\n",
    "post_df"
   ]
  },
  {
   "cell_type": "code",
   "execution_count": null,
   "metadata": {},
   "outputs": [],
   "source": [
    "importlib.reload(sys.modules['src.geoapify_api'])\n",
    "lat = post_df['latitude'].iloc[0]\n",
    "lon = post_df['longitude'].iloc[0]\n",
    "request_params = {\n",
    "    \"apiKey\": \"493bbfea1f124b27906cf052aa330680\",\n",
    "    \"categories\": \"tourism, leisure, entertainment\",\n",
    "    \"limit\": \"500\",\n",
    "}\n",
    "filters = {\n",
    "        \"circle\": f\"{lon},{lat},5000\",\n",
    "}\n",
    "\n",
    "url = 'https://api.geoapify.com/v2/places?'\n",
    "\n",
    "df, res = geoapify_pipeline(url, request_params, filters)"
   ]
  },
  {
   "cell_type": "code",
   "execution_count": null,
   "metadata": {},
   "outputs": [],
   "source": [
    "# In category column filter to look for ['tourism,'theatre'] and remove ['artwork','memorial']\n",
    "df1 = df[df['category_keywords'].apply(lambda x: 'tourism' in x or 'theatre' in x)]\n",
    "df1 = df1[df1['category_keywords'].apply(lambda x: 'artwork' not in x and 'memorial' not in x)]\n",
    "# remove rows containing either only 'sights' or only ['sights','tourism'] in either order\n",
    "df1 = df1[~df1['category_keywords'].apply(lambda x: x == ['sights'] or x == ['sights','tourism'] or x == ['tourism','sights'])]\n",
    "# apply relative distance function to dataframe\n",
    "df1['distance_from_start'] = df1.apply(lambda x: relative_distance(lat, lon, x['lat'], x['lon']), axis=1)\n",
    "# sort dataframe by distance\n",
    "df1 = df1.sort_values(by='distance_from_start')\n",
    "df1"
   ]
  },
  {
   "cell_type": "code",
   "execution_count": null,
   "metadata": {},
   "outputs": [],
   "source": [
    "obs, forecast = get_openweather(lat=float(lat), lon=float(lon))\n",
    "weather_df = format_forecast_openweather(forecast.forecast.to_dict())"
   ]
  },
  {
   "cell_type": "code",
   "execution_count": null,
   "metadata": {},
   "outputs": [],
   "source": [
    "weather_df"
   ]
  },
  {
   "cell_type": "code",
   "execution_count": null,
   "metadata": {},
   "outputs": [],
   "source": [
    "from src.helpers.time_tracker import timings_to_dataframe\n",
    "timings_to_dataframe()"
   ]
  }
 ],
 "metadata": {
  "kernelspec": {
   "display_name": "holenv",
   "language": "python",
   "name": "python3"
  },
  "language_info": {
   "codemirror_mode": {
    "name": "ipython",
    "version": 3
   },
   "file_extension": ".py",
   "mimetype": "text/x-python",
   "name": "python",
   "nbconvert_exporter": "python",
   "pygments_lexer": "ipython3",
   "version": "3.12.0"
  }
 },
 "nbformat": 4,
 "nbformat_minor": 2
}
