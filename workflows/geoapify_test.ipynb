{
 "cells": [
  {
   "cell_type": "markdown",
   "metadata": {},
   "source": [
    "## Testing Geoapify Places API"
   ]
  },
  {
   "cell_type": "code",
   "execution_count": null,
   "metadata": {},
   "outputs": [],
   "source": [
    "import sys\n",
    "import pandas as pd\n",
    "import numpy as np\n",
    "# change working directory to the root of the project\n",
    "sys.path.append('../')\n",
    "from src.geoapify_api import geoapify_pipeline\n",
    "from src.methods.data_ingestion import convert_easting_northing_to_long_lat\n",
    "import importlib"
   ]
  },
  {
   "cell_type": "markdown",
   "metadata": {},
   "source": [
    "#### Postcode input to be converted to longitude and latitude.\n",
    "\n",
    "Postcode data was downloaded from: https://osdatahub.os.uk/downloads/open/CodePointOpen"
   ]
  },
  {
   "cell_type": "code",
   "execution_count": null,
   "metadata": {},
   "outputs": [],
   "source": [
    "postcode_path = '../data/postcode_data/Data/'\n",
    "# create function for getting postcode data\n",
    "def get_postcode_data(input_postcode: str, postcode_path) -> pd.DataFrame:\n",
    "    \"\"\"Get postcode data from postcode csv files\"\"\"\n",
    "    # match first two letters of postcode to file\n",
    "    postcode_file = postcode_path + input_postcode[:2] + '.csv'\n",
    "    # read in file\n",
    "    postcode_df = pd.read_csv(postcode_file, names=['postcode', 'pqi', 'easting', 'northing'], header=None, usecols=[0, 1, 2, 3])\n",
    "    #filter to input postcode\n",
    "    postcode_df = postcode_df[postcode_df['postcode'] == input_postcode]\n",
    "    # convert easting and northing to longitude and latitude\n",
    "    postcode_df['longitude'], postcode_df['latitude'] = convert_easting_northing_to_long_lat(postcode_df['easting'].iloc[0], postcode_df['northing'].iloc[0])\n",
    "    return postcode_df\n",
    "\n",
    "# test function\n",
    "post_df = get_postcode_data('OX1 3BQ', postcode_path)\n",
    "post_df"
   ]
  },
  {
   "cell_type": "code",
   "execution_count": null,
   "metadata": {},
   "outputs": [],
   "source": [
    "importlib.reload(sys.modules['src.geoapify_api'])\n",
    "lat = post_df['latitude'].iloc[0]\n",
    "long = post_df['longitude'].iloc[0]\n",
    "request_params = {\n",
    "    \"apiKey\": \"493bbfea1f124b27906cf052aa330680\",\n",
    "    \"categories\": \"tourism, leisure, entertainment\",\n",
    "    \"limit\": \"500\",\n",
    "}\n",
    "filters = {\n",
    "        \"circle\": f\"{lat},{long},5000\",\n",
    "}\n",
    "\n",
    "url = 'https://api.geoapify.com/v2/places?'\n",
    "\n",
    "df, res = geoapify_pipeline(url, request_params, filters)\n",
    "df"
   ]
  },
  {
   "cell_type": "code",
   "execution_count": null,
   "metadata": {},
   "outputs": [],
   "source": [
    "# In category column filter to look for ['tourism,'theatre'] and remove ['artwork','memorial']\n",
    "df1 = df[df['category_keywords'].apply(lambda x: 'tourism' in x or 'theatre' in x)]\n",
    "df1 = df1[df1['category_keywords'].apply(lambda x: 'artwork' not in x and 'memorial' not in x)]\n",
    "# remove rows containing either only 'sights' or only ['sights','tourism']\n",
    "df1 = df1[~df1['category_keywords'].apply(lambda x: x == ['sights'] or x == ['sights','tourism'])]\n",
    "df1"
   ]
  },
  {
   "cell_type": "code",
   "execution_count": null,
   "metadata": {},
   "outputs": [],
   "source": [
    "# Check NaN rate for each column >0\n",
    "nan_cols = df.isna().sum()[df.isna().sum()>50]\n",
    "nan_cols"
   ]
  }
 ],
 "metadata": {
  "kernelspec": {
   "display_name": "holenv",
   "language": "python",
   "name": "python3"
  },
  "language_info": {
   "codemirror_mode": {
    "name": "ipython",
    "version": 3
   },
   "file_extension": ".py",
   "mimetype": "text/x-python",
   "name": "python",
   "nbconvert_exporter": "python",
   "pygments_lexer": "ipython3",
   "version": "3.12.0"
  }
 },
 "nbformat": 4,
 "nbformat_minor": 2
}
