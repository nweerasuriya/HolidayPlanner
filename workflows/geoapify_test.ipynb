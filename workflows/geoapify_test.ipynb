{
 "cells": [
  {
   "cell_type": "markdown",
   "metadata": {},
   "source": [
    "## Testing Geoapify Places API"
   ]
  },
  {
   "cell_type": "code",
   "execution_count": 1,
   "metadata": {},
   "outputs": [],
   "source": [
    "import sys\n",
    "# change working directory to the root of the project\n",
    "sys.path.append('../')\n",
    "from src.methods.data_ingestion import call_api"
   ]
  },
  {
   "cell_type": "code",
   "execution_count": 29,
   "metadata": {},
   "outputs": [
    {
     "data": {
      "text/plain": [
       "'https://api.geoapify.com/v2/places?filter=circle:-1.257677,51.7520131,5000&limit=20&categories=entertainment.museum&apiKey=493bbfea1f124b27906cf052aa330680'"
      ]
     },
     "execution_count": 29,
     "metadata": {},
     "output_type": "execute_result"
    }
   ],
   "source": [
    "request_params = {\n",
    "    \"apiKey\": \"493bbfea1f124b27906cf052aa330680\",\n",
    "    \"categories\": \"entertainment.museum\",\n",
    "    \"limit\": \"20\",\n",
    "}\n",
    "filters = {\n",
    "        \"circle\": \"-1.257677,51.7520131,5000\",\n",
    "}\n",
    "\n",
    "url = 'https://api.geoapify.com/v2/places?'\n",
    "\n",
    "# append parameters to the url\n",
    "for key, value in request_params.items():\n",
    "    url = url.replace('?', f'?{key}={value}&')\n",
    "\n",
    "# append filters to the url\n",
    "for key, value in filters.items():\n",
    "    url = url.replace('?', f'?filter={key}:{value}&')\n",
    "\n",
    "# remove the last '&' from the url\n",
    "url = url[:-1]\n",
    "url\n"
   ]
  },
  {
   "cell_type": "markdown",
   "metadata": {},
   "source": [
    "Find all museums in a 5000m radium from Oxford city centre"
   ]
  },
  {
   "cell_type": "code",
   "execution_count": 30,
   "metadata": {},
   "outputs": [],
   "source": [
    "res = call_api(url)\n",
    "res"
   ]
  },
  {
   "cell_type": "code",
   "execution_count": null,
   "metadata": {},
   "outputs": [],
   "source": []
  }
 ],
 "metadata": {
  "kernelspec": {
   "display_name": "holenv",
   "language": "python",
   "name": "python3"
  },
  "language_info": {
   "codemirror_mode": {
    "name": "ipython",
    "version": 3
   },
   "file_extension": ".py",
   "mimetype": "text/x-python",
   "name": "python",
   "nbconvert_exporter": "python",
   "pygments_lexer": "ipython3",
   "version": "3.12.0"
  }
 },
 "nbformat": 4,
 "nbformat_minor": 2
}
