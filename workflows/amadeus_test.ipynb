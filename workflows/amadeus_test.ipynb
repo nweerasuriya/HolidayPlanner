{
 "cells": [
  {
   "cell_type": "code",
   "execution_count": 1,
   "metadata": {},
   "outputs": [],
   "source": [
    "import sys\n",
    "\n",
    "# change working directory to the root of the project\n",
    "sys.path.append('../')\n",
    "from src.amadeus_api import amadeus_pipeline"
   ]
  },
  {
   "cell_type": "code",
   "execution_count": 5,
   "metadata": {},
   "outputs": [
    {
     "name": "stdout",
     "output_type": "stream",
     "text": [
      "Error calling API: 500 Server Error: Internal Server Error for url: https://test.api.amadeus.com/v1/reference-data/locations/pois?latitude=41.397158&longitude=2.160873&radius=1\n"
     ]
    }
   ],
   "source": [
    "request_params = {\n",
    "    \"latitude\": \"51.484703\",\n",
    "    \"longitude\": \"-0.061048\",\n",
    "    \"radius\": \"5\",\n",
    "    \"categories\": \"SIGHTS\"\n",
    "}\n",
    "\n",
    "amadeus_pipeline(request_params=request_params, isProd=False)"
   ]
  }
 ],
 "metadata": {
  "kernelspec": {
   "display_name": "hol_env",
   "language": "python",
   "name": "python3"
  },
  "language_info": {
   "codemirror_mode": {
    "name": "ipython",
    "version": 3
   },
   "file_extension": ".py",
   "mimetype": "text/x-python",
   "name": "python",
   "nbconvert_exporter": "python",
   "pygments_lexer": "ipython3",
   "version": "3.12.0"
  }
 },
 "nbformat": 4,
 "nbformat_minor": 2
}
