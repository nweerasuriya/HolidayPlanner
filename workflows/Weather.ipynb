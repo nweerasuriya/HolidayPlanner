{
 "cells": [
  {
   "cell_type": "markdown",
   "metadata": {},
   "source": [
    "Test Notebook"
   ]
  },
  {
   "cell_type": "code",
   "execution_count": null,
   "metadata": {},
   "outputs": [],
   "source": []
  },
  {
   "cell_type": "markdown",
   "metadata": {},
   "source": [
    "Weather\n",
    "The GUI from the customer's perspective will require some dates to be inputted alongside location and depending on chance of rain we provide a list of activities \n",
    "\n",
    "Ideally each activity will have either a postcode or a LATITUDE/LONGITUDE coordinate for us to predict the weather \n",
    "\n",
    "Will need to consider accuracy of the weather api used, do we want to specify make a conclusion from different weather apis or pick the most reliable one? \n",
    "\n",
    "Also do will need to specify degree of size we will predict weather for? \n",
    "\n",
    "1. https://open-meteo.com/#\n",
    "    Requires Latitude Longitude Timezone \n",
    "    \n",
    "\n"
   ]
  },
  {
   "cell_type": "code",
   "execution_count": 1,
   "metadata": {},
   "outputs": [],
   "source": [
    "\n",
    "import sys\n",
    "# change working directory to the root of the project\n",
    "sys.path.append('../')\n",
    "from src.methods.data_ingestion import call_api"
   ]
  },
  {
   "cell_type": "code",
   "execution_count": 14,
   "metadata": {},
   "outputs": [
    {
     "name": "stdout",
     "output_type": "stream",
     "text": [
      "{'latitude': 51.5, 'longitude': 0.119999886, 'generationtime_ms': 0.032067298889160156, 'utc_offset_seconds': 0, 'timezone': 'GMT', 'timezone_abbreviation': 'GMT', 'elevation': 3.0, 'hourly_units': {'time': 'iso8601', 'temperature_2m': '°C'}, 'hourly': {'time': ['2023-11-22T00:00', '2023-11-22T01:00', '2023-11-22T02:00', '2023-11-22T03:00', '2023-11-22T04:00', '2023-11-22T05:00', '2023-11-22T06:00', '2023-11-22T07:00', '2023-11-22T08:00', '2023-11-22T09:00', '2023-11-22T10:00', '2023-11-22T11:00', '2023-11-22T12:00', '2023-11-22T13:00', '2023-11-22T14:00', '2023-11-22T15:00', '2023-11-22T16:00', '2023-11-22T17:00', '2023-11-22T18:00', '2023-11-22T19:00', '2023-11-22T20:00', '2023-11-22T21:00', '2023-11-22T22:00', '2023-11-22T23:00', '2023-11-23T00:00', '2023-11-23T01:00', '2023-11-23T02:00', '2023-11-23T03:00', '2023-11-23T04:00', '2023-11-23T05:00', '2023-11-23T06:00', '2023-11-23T07:00', '2023-11-23T08:00', '2023-11-23T09:00', '2023-11-23T10:00', '2023-11-23T11:00', '2023-11-23T12:00', '2023-11-23T13:00', '2023-11-23T14:00', '2023-11-23T15:00', '2023-11-23T16:00', '2023-11-23T17:00', '2023-11-23T18:00', '2023-11-23T19:00', '2023-11-23T20:00', '2023-11-23T21:00', '2023-11-23T22:00', '2023-11-23T23:00', '2023-11-24T00:00', '2023-11-24T01:00', '2023-11-24T02:00', '2023-11-24T03:00', '2023-11-24T04:00', '2023-11-24T05:00', '2023-11-24T06:00', '2023-11-24T07:00', '2023-11-24T08:00', '2023-11-24T09:00', '2023-11-24T10:00', '2023-11-24T11:00', '2023-11-24T12:00', '2023-11-24T13:00', '2023-11-24T14:00', '2023-11-24T15:00', '2023-11-24T16:00', '2023-11-24T17:00', '2023-11-24T18:00', '2023-11-24T19:00', '2023-11-24T20:00', '2023-11-24T21:00', '2023-11-24T22:00', '2023-11-24T23:00', '2023-11-25T00:00', '2023-11-25T01:00', '2023-11-25T02:00', '2023-11-25T03:00', '2023-11-25T04:00', '2023-11-25T05:00', '2023-11-25T06:00', '2023-11-25T07:00', '2023-11-25T08:00', '2023-11-25T09:00', '2023-11-25T10:00', '2023-11-25T11:00', '2023-11-25T12:00', '2023-11-25T13:00', '2023-11-25T14:00', '2023-11-25T15:00', '2023-11-25T16:00', '2023-11-25T17:00', '2023-11-25T18:00', '2023-11-25T19:00', '2023-11-25T20:00', '2023-11-25T21:00', '2023-11-25T22:00', '2023-11-25T23:00', '2023-11-26T00:00', '2023-11-26T01:00', '2023-11-26T02:00', '2023-11-26T03:00', '2023-11-26T04:00', '2023-11-26T05:00', '2023-11-26T06:00', '2023-11-26T07:00', '2023-11-26T08:00', '2023-11-26T09:00', '2023-11-26T10:00', '2023-11-26T11:00', '2023-11-26T12:00', '2023-11-26T13:00', '2023-11-26T14:00', '2023-11-26T15:00', '2023-11-26T16:00', '2023-11-26T17:00', '2023-11-26T18:00', '2023-11-26T19:00', '2023-11-26T20:00', '2023-11-26T21:00', '2023-11-26T22:00', '2023-11-26T23:00', '2023-11-27T00:00', '2023-11-27T01:00', '2023-11-27T02:00', '2023-11-27T03:00', '2023-11-27T04:00', '2023-11-27T05:00', '2023-11-27T06:00', '2023-11-27T07:00', '2023-11-27T08:00', '2023-11-27T09:00', '2023-11-27T10:00', '2023-11-27T11:00', '2023-11-27T12:00', '2023-11-27T13:00', '2023-11-27T14:00', '2023-11-27T15:00', '2023-11-27T16:00', '2023-11-27T17:00', '2023-11-27T18:00', '2023-11-27T19:00', '2023-11-27T20:00', '2023-11-27T21:00', '2023-11-27T22:00', '2023-11-27T23:00', '2023-11-28T00:00', '2023-11-28T01:00', '2023-11-28T02:00', '2023-11-28T03:00', '2023-11-28T04:00', '2023-11-28T05:00', '2023-11-28T06:00', '2023-11-28T07:00', '2023-11-28T08:00', '2023-11-28T09:00', '2023-11-28T10:00', '2023-11-28T11:00', '2023-11-28T12:00', '2023-11-28T13:00', '2023-11-28T14:00', '2023-11-28T15:00', '2023-11-28T16:00', '2023-11-28T17:00', '2023-11-28T18:00', '2023-11-28T19:00', '2023-11-28T20:00', '2023-11-28T21:00', '2023-11-28T22:00', '2023-11-28T23:00'], 'temperature_2m': [6.8, 6.4, 6.2, 6.3, 6.1, 5.8, 5.5, 5.4, 5.6, 6.3, 7.2, 8.1, 8.9, 9.2, 9.4, 9.4, 9.2, 9.2, 9.3, 9.7, 9.7, 9.3, 9.0, 8.8, 9.0, 8.9, 8.8, 9.0, 9.1, 9.2, 9.3, 9.3, 9.2, 9.5, 10.1, 11.1, 11.9, 12.3, 12.5, 12.5, 12.0, 11.5, 11.1, 10.7, 10.8, 10.8, 10.9, 10.8, 10.8, 11.2, 9.8, 9.0, 8.6, 8.4, 8.2, 7.9, 7.4, 7.2, 7.3, 7.2, 7.1, 6.9, 6.7, 6.1, 5.3, 4.8, 4.3, 4.0, 3.7, 3.3, 3.0, 2.6, 2.3, 2.1, 1.8, 1.4, 1.3, 1.2, 1.0, 0.8, 0.7, 1.2, 2.3, 3.6, 4.6, 5.3, 5.6, 5.4, 4.6, 3.8, 3.2, 2.8, 2.5, 2.1, 1.9, 1.6, 1.5, 1.4, 1.3, 1.2, 1.2, 1.1, 1.1, 1.0, 0.8, 1.1, 1.9, 3.1, 4.1, 4.8, 5.2, 5.5, 5.4, 5.2, 5.0, 4.8, 4.6, 4.4, 4.4, 4.5, 4.6, 4.7, 4.8, 4.8, 4.8, 4.7, 4.6, 4.5, 4.6, 4.6, 4.8, 5.1, 5.3, 5.5, 5.6, 5.6, 5.2, 4.7, 4.4, 5.2, 5.1, 5.0, 4.9, 4.8, 4.6, 4.0, 3.4, 2.8, 2.4, 2.1, 2.0, 1.9, 1.9, 2.3, 3.2, 4.4, 5.3, 5.6, 5.5, 5.1, 4.4, 3.3, 2.5, 2.0, 1.7, 1.5, 1.2, 0.9]}}\n"
     ]
    }
   ],
   "source": [
    "# Make sure all required weather variables are listed here\n",
    "# The order of variables in hourly or daily is important to assign them correctly below\n",
    "url = \"https://api.open-meteo.com/v1/forecast\"\n",
    "params = {\n",
    "\t\"latitude\": 51.5072,\n",
    "\t\"longitude\": 0.1276,\n",
    "\t\"hourly\": \"temperature_2m\"\n",
    "}\n",
    "response = call_api(url, params=params)\n",
    "print(response)"
   ]
  },
  {
   "cell_type": "code",
   "execution_count": 37,
   "metadata": {},
   "outputs": [
    {
     "data": {
      "text/html": [
       "<div>\n",
       "<style scoped>\n",
       "    .dataframe tbody tr th:only-of-type {\n",
       "        vertical-align: middle;\n",
       "    }\n",
       "\n",
       "    .dataframe tbody tr th {\n",
       "        vertical-align: top;\n",
       "    }\n",
       "\n",
       "    .dataframe thead th {\n",
       "        text-align: right;\n",
       "    }\n",
       "</style>\n",
       "<table border=\"1\" class=\"dataframe\">\n",
       "  <thead>\n",
       "    <tr style=\"text-align: right;\">\n",
       "      <th></th>\n",
       "      <th>latitude</th>\n",
       "      <th>longitude</th>\n",
       "      <th>generationtime_ms</th>\n",
       "      <th>utc_offset_seconds</th>\n",
       "      <th>timezone</th>\n",
       "      <th>timezone_abbreviation</th>\n",
       "      <th>elevation</th>\n",
       "      <th>hourly_units</th>\n",
       "      <th>0</th>\n",
       "      <th>1</th>\n",
       "      <th>...</th>\n",
       "      <th>158</th>\n",
       "      <th>159</th>\n",
       "      <th>160</th>\n",
       "      <th>161</th>\n",
       "      <th>162</th>\n",
       "      <th>163</th>\n",
       "      <th>164</th>\n",
       "      <th>165</th>\n",
       "      <th>166</th>\n",
       "      <th>167</th>\n",
       "    </tr>\n",
       "  </thead>\n",
       "  <tbody>\n",
       "    <tr>\n",
       "      <th>time</th>\n",
       "      <td>51.5</td>\n",
       "      <td>0.12</td>\n",
       "      <td>0.032067</td>\n",
       "      <td>0</td>\n",
       "      <td>GMT</td>\n",
       "      <td>GMT</td>\n",
       "      <td>3.0</td>\n",
       "      <td>iso8601</td>\n",
       "      <td>2023-11-22T00:00</td>\n",
       "      <td>2023-11-22T01:00</td>\n",
       "      <td>...</td>\n",
       "      <td>2023-11-28T14:00</td>\n",
       "      <td>2023-11-28T15:00</td>\n",
       "      <td>2023-11-28T16:00</td>\n",
       "      <td>2023-11-28T17:00</td>\n",
       "      <td>2023-11-28T18:00</td>\n",
       "      <td>2023-11-28T19:00</td>\n",
       "      <td>2023-11-28T20:00</td>\n",
       "      <td>2023-11-28T21:00</td>\n",
       "      <td>2023-11-28T22:00</td>\n",
       "      <td>2023-11-28T23:00</td>\n",
       "    </tr>\n",
       "    <tr>\n",
       "      <th>temperature_2m</th>\n",
       "      <td>51.5</td>\n",
       "      <td>0.12</td>\n",
       "      <td>0.032067</td>\n",
       "      <td>0</td>\n",
       "      <td>GMT</td>\n",
       "      <td>GMT</td>\n",
       "      <td>3.0</td>\n",
       "      <td>°C</td>\n",
       "      <td>6.8</td>\n",
       "      <td>6.4</td>\n",
       "      <td>...</td>\n",
       "      <td>5.5</td>\n",
       "      <td>5.1</td>\n",
       "      <td>4.4</td>\n",
       "      <td>3.3</td>\n",
       "      <td>2.5</td>\n",
       "      <td>2.0</td>\n",
       "      <td>1.7</td>\n",
       "      <td>1.5</td>\n",
       "      <td>1.2</td>\n",
       "      <td>0.9</td>\n",
       "    </tr>\n",
       "  </tbody>\n",
       "</table>\n",
       "<p>2 rows × 176 columns</p>\n",
       "</div>"
      ],
      "text/plain": [
       "                latitude  longitude  generationtime_ms  utc_offset_seconds  \\\n",
       "time                51.5       0.12           0.032067                   0   \n",
       "temperature_2m      51.5       0.12           0.032067                   0   \n",
       "\n",
       "               timezone timezone_abbreviation  elevation hourly_units  \\\n",
       "time                GMT                   GMT        3.0      iso8601   \n",
       "temperature_2m      GMT                   GMT        3.0           °C   \n",
       "\n",
       "                               0                 1  ...               158  \\\n",
       "time            2023-11-22T00:00  2023-11-22T01:00  ...  2023-11-28T14:00   \n",
       "temperature_2m               6.8               6.4  ...               5.5   \n",
       "\n",
       "                             159               160               161  \\\n",
       "time            2023-11-28T15:00  2023-11-28T16:00  2023-11-28T17:00   \n",
       "temperature_2m               5.1               4.4               3.3   \n",
       "\n",
       "                             162               163               164  \\\n",
       "time            2023-11-28T18:00  2023-11-28T19:00  2023-11-28T20:00   \n",
       "temperature_2m               2.5               2.0               1.7   \n",
       "\n",
       "                             165               166               167  \n",
       "time            2023-11-28T21:00  2023-11-28T22:00  2023-11-28T23:00  \n",
       "temperature_2m               1.5               1.2               0.9  \n",
       "\n",
       "[2 rows x 176 columns]"
      ]
     },
     "execution_count": 37,
     "metadata": {},
     "output_type": "execute_result"
    }
   ],
   "source": [
    "from pprint import pprint\n",
    "import pandas as pd\n",
    "\n",
    "# pprint(response)\n",
    "# pprint(response['hourly'])\n",
    "\n",
    "df=pd.DataFrame(response)\n",
    "df=pd.concat([df.drop(['hourly'],axis=1),df['hourly'].apply(pd.Series)],axis=1)\n",
    "\n",
    "df\n"
   ]
  },
  {
   "cell_type": "code",
   "execution_count": 16,
   "metadata": {},
   "outputs": [
    {
     "name": "stdout",
     "output_type": "stream",
     "text": [
      "dict_keys(['latitude', 'longitude', 'generationtime_ms', 'utc_offset_seconds', 'timezone', 'timezone_abbreviation', 'elevation', 'hourly_units', 'hourly'])\n"
     ]
    }
   ],
   "source": [
    "print(response.keys())"
   ]
  },
  {
   "cell_type": "code",
   "execution_count": 38,
   "metadata": {},
   "outputs": [
    {
     "name": "stdout",
     "output_type": "stream",
     "text": [
      "Coordinates 51.5°E 0.119999886°N\n",
      "Elevation 3.0 m asl\n",
      "Timezone GMT GMT\n",
      "Timezone difference to GMT+0 0 s\n"
     ]
    },
    {
     "ename": "AttributeError",
     "evalue": "'dict' object has no attribute 'Variables'",
     "output_type": "error",
     "traceback": [
      "\u001b[0;31m---------------------------------------------------------------------------\u001b[0m",
      "\u001b[0;31mAttributeError\u001b[0m                            Traceback (most recent call last)",
      "\u001b[1;32m/Users/ekenem/Documents/GitProject/HolidayPlanner/workflows/Weather.ipynb Cell 8\u001b[0m line \u001b[0;36m9\n\u001b[1;32m      <a href='vscode-notebook-cell:/Users/ekenem/Documents/GitProject/HolidayPlanner/workflows/Weather.ipynb#W1sZmlsZQ%3D%3D?line=5'>6</a>\u001b[0m \u001b[39mprint\u001b[39m(\u001b[39mf\u001b[39m\u001b[39m\"\u001b[39m\u001b[39mTimezone difference to GMT+0 \u001b[39m\u001b[39m{\u001b[39;00mresponse[\u001b[39m'\u001b[39m\u001b[39mutc_offset_seconds\u001b[39m\u001b[39m'\u001b[39m]\u001b[39m}\u001b[39;00m\u001b[39m s\u001b[39m\u001b[39m\"\u001b[39m)\n\u001b[1;32m      <a href='vscode-notebook-cell:/Users/ekenem/Documents/GitProject/HolidayPlanner/workflows/Weather.ipynb#W1sZmlsZQ%3D%3D?line=7'>8</a>\u001b[0m \u001b[39m# Process hourly data. The order of variables needs to be the same as requested.\u001b[39;00m\n\u001b[0;32m----> <a href='vscode-notebook-cell:/Users/ekenem/Documents/GitProject/HolidayPlanner/workflows/Weather.ipynb#W1sZmlsZQ%3D%3D?line=8'>9</a>\u001b[0m hourly_temperature_2m \u001b[39m=\u001b[39m hourly\u001b[39m.\u001b[39mVariables(\u001b[39m0\u001b[39m)\u001b[39m.\u001b[39mValuesAsNumpy()\n\u001b[1;32m     <a href='vscode-notebook-cell:/Users/ekenem/Documents/GitProject/HolidayPlanner/workflows/Weather.ipynb#W1sZmlsZQ%3D%3D?line=10'>11</a>\u001b[0m hourly_data \u001b[39m=\u001b[39m {\u001b[39m\"\u001b[39m\u001b[39mdate\u001b[39m\u001b[39m\"\u001b[39m: pd\u001b[39m.\u001b[39mdate_range(\n\u001b[1;32m     <a href='vscode-notebook-cell:/Users/ekenem/Documents/GitProject/HolidayPlanner/workflows/Weather.ipynb#W1sZmlsZQ%3D%3D?line=11'>12</a>\u001b[0m \tstart \u001b[39m=\u001b[39m pd\u001b[39m.\u001b[39mto_datetime(hourly\u001b[39m.\u001b[39mTime(), unit \u001b[39m=\u001b[39m \u001b[39m\"\u001b[39m\u001b[39ms\u001b[39m\u001b[39m\"\u001b[39m),\n\u001b[1;32m     <a href='vscode-notebook-cell:/Users/ekenem/Documents/GitProject/HolidayPlanner/workflows/Weather.ipynb#W1sZmlsZQ%3D%3D?line=12'>13</a>\u001b[0m \tend \u001b[39m=\u001b[39m pd\u001b[39m.\u001b[39mto_datetime(hourly\u001b[39m.\u001b[39mTimeEnd(), unit \u001b[39m=\u001b[39m \u001b[39m\"\u001b[39m\u001b[39ms\u001b[39m\u001b[39m\"\u001b[39m),\n\u001b[1;32m     <a href='vscode-notebook-cell:/Users/ekenem/Documents/GitProject/HolidayPlanner/workflows/Weather.ipynb#W1sZmlsZQ%3D%3D?line=13'>14</a>\u001b[0m \tfreq \u001b[39m=\u001b[39m pd\u001b[39m.\u001b[39mTimedelta(seconds \u001b[39m=\u001b[39m hourly\u001b[39m.\u001b[39mInterval()),\n\u001b[1;32m     <a href='vscode-notebook-cell:/Users/ekenem/Documents/GitProject/HolidayPlanner/workflows/Weather.ipynb#W1sZmlsZQ%3D%3D?line=14'>15</a>\u001b[0m \tinclusive \u001b[39m=\u001b[39m \u001b[39m\"\u001b[39m\u001b[39mleft\u001b[39m\u001b[39m\"\u001b[39m\n\u001b[1;32m     <a href='vscode-notebook-cell:/Users/ekenem/Documents/GitProject/HolidayPlanner/workflows/Weather.ipynb#W1sZmlsZQ%3D%3D?line=15'>16</a>\u001b[0m )}\n\u001b[1;32m     <a href='vscode-notebook-cell:/Users/ekenem/Documents/GitProject/HolidayPlanner/workflows/Weather.ipynb#W1sZmlsZQ%3D%3D?line=16'>17</a>\u001b[0m hourly_data[\u001b[39m\"\u001b[39m\u001b[39mtemperature_2m\u001b[39m\u001b[39m\"\u001b[39m] \u001b[39m=\u001b[39m hourly_temperature_2m\n",
      "\u001b[0;31mAttributeError\u001b[0m: 'dict' object has no attribute 'Variables'"
     ]
    }
   ],
   "source": [
    "# Process first location. Add a for-loop for multiple locations or weather models\n",
    "# response = responses[0]\n",
    "print(f\"Coordinates {response['latitude']}°E {response['longitude']}°N\")\n",
    "print(f\"Elevation {response['elevation']} m asl\")\n",
    "print(f\"Timezone {response['timezone']} {response['timezone_abbreviation']}\")\n",
    "print(f\"Timezone difference to GMT+0 {response['utc_offset_seconds']} s\")\n",
    "\n",
    "# Process hourly data. The order of variables needs to be the same as requested.\n",
    "hourly_temperature_2m = hourly.Variables(0).ValuesAsNumpy()\n",
    "\n",
    "hourly_data = {\"date\": pd.date_range(\n",
    "\tstart = pd.to_datetime(hourly.Time(), unit = \"s\"),\n",
    "\tend = pd.to_datetime(hourly.TimeEnd(), unit = \"s\"),\n",
    "\tfreq = pd.Timedelta(seconds = hourly.Interval()),\n",
    "\tinclusive = \"left\"\n",
    ")}\n",
    "hourly_data[\"temperature_2m\"] = hourly_temperature_2m\n",
    "\n",
    "hourly_dataframe = pd.DataFrame(data = hourly_data)\n",
    "print(hourly_dataframe)\n"
   ]
  }
 ],
 "metadata": {
  "kernelspec": {
   "display_name": "Python 3",
   "language": "python",
   "name": "python3"
  },
  "language_info": {
   "codemirror_mode": {
    "name": "ipython",
    "version": 3
   },
   "file_extension": ".py",
   "mimetype": "text/x-python",
   "name": "python",
   "nbconvert_exporter": "python",
   "pygments_lexer": "ipython3",
   "version": "3.11.5"
  }
 },
 "nbformat": 4,
 "nbformat_minor": 2
}
